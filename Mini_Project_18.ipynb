{
  "nbformat": 4,
  "nbformat_minor": 0,
  "metadata": {
    "colab": {
      "provenance": [],
      "authorship_tag": "ABX9TyOwb5GPxrAQ4+6jfoHCJFoa",
      "include_colab_link": true
    },
    "kernelspec": {
      "name": "python3",
      "display_name": "Python 3"
    },
    "language_info": {
      "name": "python"
    }
  },
  "cells": [
    {
      "cell_type": "markdown",
      "metadata": {
        "id": "view-in-github",
        "colab_type": "text"
      },
      "source": [
        "<a href=\"https://colab.research.google.com/github/rohankhanna1928/Mini-Project-18/blob/main/Mini_Project_18.ipynb\" target=\"_parent\"><img src=\"https://colab.research.google.com/assets/colab-badge.svg\" alt=\"Open In Colab\"/></a>"
      ]
    },
    {
      "cell_type": "code",
      "execution_count": null,
      "metadata": {
        "id": "oXdsE8V_8M1g"
      },
      "outputs": [],
      "source": [
        "!pip install icrawler"
      ]
    },
    {
      "cell_type": "code",
      "source": [
        "import os\n",
        "from icrawler.builtin import GoogleImageCrawler\n",
        "\n",
        "save_dir = '/content/motorbike_images'\n",
        "os.makedirs(save_dir, exist_ok=True)\n",
        "\n",
        "google_crawler = GoogleImageCrawler(storage={'root_dir': save_dir})\n",
        "google_crawler.crawl(keyword='motorbike', max_num=10) #Download 10 images of motorbike\n",
        "\n",
        "print(f'Images saved to: {save_dir}')"
      ],
      "metadata": {
        "id": "2INND0fV9Brm"
      },
      "execution_count": null,
      "outputs": []
    }
  ]
}